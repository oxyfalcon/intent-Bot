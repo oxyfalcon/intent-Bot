{
  "cells": [
    {
      "cell_type": "code",
      "execution_count": 21,
      "metadata": {
        "id": "yNYCgd8whshZ"
      },
      "outputs": [],
      "source": [
        "\n",
        "\n",
        "import numpy as np\n",
        "import json\n",
        "# Loading json data\n",
        "with open('data_full.json') as file:\n",
        "  data = json.loads(file.read())\n",
        "\n",
        "# Loading out-of-scope intent data\n",
        "val_oos = np.array(data['oos_val'])\n",
        "train_oos = np.array(data['oos_train'])\n",
        "test_oos = np.array(data['oos_test'])\n",
        "\n",
        "# Loading other intents data\n",
        "val_others = np.array(data['val'])\n",
        "train_others = np.array(data['train'])\n",
        "test_others = np.array(data['test'])\n",
        "\n",
        "# Merging out-of-scope and other intent data\n",
        "val = np.concatenate([val_oos,val_others])\n",
        "train = np.concatenate([train_oos,train_others])\n",
        "test = np.concatenate([test_oos,test_others])\n",
        "data = np.concatenate([train,test,val])\n",
        "data = data.T #transpose\n",
        "\n",
        "text = data[0]\n",
        "labels = data[1]"
      ]
    },
    {
      "cell_type": "code",
      "execution_count": 22,
      "metadata": {
        "id": "U-gqPBu-o7wB"
      },
      "outputs": [],
      "source": [
        "from sklearn.model_selection import train_test_split\n",
        "train_txt,test_txt,train_label,test_labels = train_test_split(text,labels,test_size = 0.3)"
      ]
    },
    {
      "cell_type": "code",
      "execution_count": 23,
      "metadata": {
        "colab": {
          "base_uri": "https://localhost:8080/",
          "height": 105
        },
        "id": "pwTrolwjp8zx",
        "outputId": "8ad39136-af98-4c95-b360-f01c00515aff"
      },
      "outputs": [
        {
          "data": {
            "application/vnd.google.colaboratory.intrinsic+json": {
              "type": "string"
            },
            "text/plain": [
              "'\\nfit_on_texts Updates internal vocabulary based on a list of texts. \\nThis method creates the vocabulary index based on word frequency. \\nSo if you give it something like, \"The cat sat on the mat.\" \\nIt will create a dictionary s.t. word_index[\"the\"] = 1; word_index[\"cat\"] = 2 \\nit is word -> index dictionary so every word gets a unique integer value. \\n0 is reserved for padding. \\nSo lower integer means more frequent word (often the first few are stop words because they appear a lot).\\n'"
            ]
          },
          "execution_count": 23,
          "metadata": {},
          "output_type": "execute_result"
        }
      ],
      "source": [
        "import tensorflow as tf\n",
        "from tensorflow.keras.preprocessing.text import Tokenizer\n",
        "from tensorflow.keras.preprocessing.sequence import pad_sequences\n",
        "max_num_words = 40000\n",
        "classes = np.unique(labels) #Finds unique elements from the array labels\n",
        "\n",
        "tokenizer = Tokenizer(num_words=max_num_words)\n",
        "tokenizer.fit_on_texts(train_txt)\n",
        "word_index = tokenizer.word_index\n",
        "'''\n",
        "fit_on_texts Updates internal vocabulary based on a list of texts. \n",
        "This method creates the vocabulary index based on word frequency. \n",
        "So if you give it something like, \"The cat sat on the mat.\" \n",
        "It will create a dictionary s.t. word_index[\"the\"] = 1; word_index[\"cat\"] = 2 \n",
        "it is word -> index dictionary so every word gets a unique integer value. \n",
        "0 is reserved for padding. \n",
        "So lower integer means more frequent word (often the first few are stop words because they appear a lot).\n",
        "'''"
      ]
    },
    {
      "cell_type": "code",
      "execution_count": 24,
      "metadata": {
        "id": "_lV-C3k5yUeZ"
      },
      "outputs": [],
      "source": [
        "ls=[]\n",
        "for c in train_txt:\n",
        "    ls.append(len(c.split()))\n",
        "maxLen=int(np.percentile(ls, 98))\n",
        "train_sequences = tokenizer.texts_to_sequences(train_txt)\n",
        "'''\n",
        "texts_to_sequences = Transforms each text in texts to a sequence of integers. \n",
        "So it basically takes each word in the text \n",
        "and replaces it with its corresponding integer value from the word_index dictionary\n",
        "'''\n",
        "train_sequences = pad_sequences(train_sequences, maxlen=maxLen, padding='post') #to make sure that all the sentences have the same length by adding 0 at the start\n",
        "\n",
        "#Doing the same thing for the test set as well\n",
        "test_sequences = tokenizer.texts_to_sequences(test_txt)\n",
        "test_sequences = pad_sequences(test_sequences, maxlen=maxLen, padding='post')"
      ]
    },
    {
      "cell_type": "code",
      "execution_count": 25,
      "metadata": {
        "id": "aobF8blzyaEM"
      },
      "outputs": [],
      "source": [
        "from sklearn.preprocessing import OneHotEncoder,LabelEncoder\n",
        "\n",
        "#First it encoded the data using labelEncoder\n",
        "# Now doing for classes\n",
        "label_encoder = LabelEncoder()\n",
        "integer_encoded = label_encoder.fit_transform(classes)\n",
        "\n",
        "#Now it is converting the interget label_encoder to onehot_encoder (Basically encoding in 0 and 1 only)\n",
        "#to do that it first need to transform, reshape the array before passing it through the onehotencoder\n",
        "# First we did for the classes, then for the test and training dataset\n",
        "\n",
        "onehot_encoder = OneHotEncoder(sparse=False)\n",
        "integer_encoded = integer_encoded.reshape(len(integer_encoded), 1)\n",
        "onehot_encoder.fit(integer_encoded)\n",
        "\n",
        "# Now doing it for training data\n",
        "train_label_encoded = label_encoder.transform(train_label)\n",
        "train_label_encoded = train_label_encoded.reshape(len(train_label_encoded), 1)\n",
        "train_label = onehot_encoder.transform(train_label_encoded)\n",
        "\n",
        "#now doing it for testing data\n",
        "test_labels_encoded = label_encoder.transform(test_labels)\n",
        "test_labels_encoded = test_labels_encoded.reshape(len(test_labels_encoded), 1)\n",
        "test_labels = onehot_encoder.transform(test_labels_encoded)"
      ]
    },
    {
      "cell_type": "code",
      "execution_count": 26,
      "metadata": {
        "colab": {
          "base_uri": "https://localhost:8080/",
          "height": 35
        },
        "id": "73KYWUvb0EPO",
        "outputId": "b118563e-46ac-4470-e4fd-8df3db8f98a2"
      },
      "outputs": [
        {
          "data": {
            "application/vnd.google.colaboratory.intrinsic+json": {
              "type": "string"
            },
            "text/plain": [
              "'glove.6B.100d (1).txt'"
            ]
          },
          "execution_count": 26,
          "metadata": {},
          "output_type": "execute_result"
        }
      ],
      "source": [
        "import wget\n",
        "url ='https://www.dropbox.com/s/a247ju2qsczh0be/glove.6B.100d.txt?dl=1'\n",
        "wget.download(url)"
      ]
    },
    {
      "cell_type": "code",
      "execution_count": 27,
      "metadata": {
        "id": "Mfpcz9Ri0gFM"
      },
      "outputs": [],
      "source": [
        "embeddings_index={}\n",
        "with open('glove.6B.100d.txt', encoding='utf8') as f:\n",
        "    for line in f:\n",
        "        values = line.split()\n",
        "        word = values[0]\n",
        "        coefs = np.asarray(values[1:], dtype='float32')\n",
        "        embeddings_index[word] = coefs"
      ]
    },
    {
      "cell_type": "code",
      "execution_count": 28,
      "metadata": {
        "colab": {
          "base_uri": "https://localhost:8080/"
        },
        "id": "hVnwxz4q0kn1",
        "outputId": "858f5b17-5756-4e61-e297-db37f4187d76"
      },
      "outputs": [
        {
          "name": "stderr",
          "output_type": "stream",
          "text": [
            "/usr/local/lib/python3.7/dist-packages/IPython/core/interactiveshell.py:2822: FutureWarning: arrays to stack must be passed as a \"sequence\" type such as list or tuple. Support for non-sequence iterables such as generators is deprecated as of NumPy 1.16 and will raise an error in the future.\n",
            "  if self.run_code(code, result):\n"
          ]
        }
      ],
      "source": [
        "all_embs = np.stack(embeddings_index.values())\n",
        "emb_mean,emb_std = all_embs.mean(), all_embs.std()\n",
        "num_words = min(max_num_words, len(word_index))+1\n",
        "embedding_dim=len(embeddings_index['the'])\n",
        "embedding_matrix = np.random.normal(emb_mean, emb_std, (num_words, embedding_dim))\n",
        "for word, i in word_index.items():\n",
        "    if i >= max_num_words:\n",
        "        break\n",
        "    embedding_vector = embeddings_index.get(word)\n",
        "    if embedding_vector is not None:\n",
        "        embedding_matrix[i] = embedding_vector"
      ]
    },
    {
      "cell_type": "code",
      "execution_count": 29,
      "metadata": {
        "id": "1wxDIpZ_0tQ-"
      },
      "outputs": [],
      "source": [
        "from tensorflow.keras.models import Sequential\n",
        "from tensorflow.keras.layers import Dense, Input, Dropout, LSTM, Activation, Bidirectional,Embedding\n",
        "model = Sequential()\n",
        "\n",
        "model.add(Embedding(num_words, 100, trainable=False,input_length=train_sequences.shape[1], weights=[embedding_matrix]))\n",
        "model.add(Bidirectional(LSTM(256, return_sequences=True, recurrent_dropout=0.1, dropout=0.1), 'concat'))\n",
        "model.add(Dropout(0.3))\n",
        "model.add(LSTM(256, return_sequences=False, recurrent_dropout=0.1, dropout=0.1))\n",
        "model.add(Dropout(0.3))\n",
        "model.add(Dense(50, activation='relu'))\n",
        "model.add(Dropout(0.3))\n",
        "model.add(Dense(classes.shape[0], activation='softmax'))\n",
        "\n",
        "model.compile(loss='categorical_crossentropy', optimizer='adam', metrics=['acc'])"
      ]
    },
    {
      "cell_type": "code",
      "execution_count": 30,
      "metadata": {
        "colab": {
          "base_uri": "https://localhost:8080/"
        },
        "id": "Mp3tx-GD1CgQ",
        "outputId": "9f1f8eac-000f-4a16-93f6-82c4da382a2f"
      },
      "outputs": [
        {
          "name": "stdout",
          "output_type": "stream",
          "text": [
            "Epoch 1/20\n",
            "260/260 [==============================] - 186s 682ms/step - loss: 4.6341 - acc: 0.0546 - val_loss: 3.6262 - val_acc: 0.1280\n",
            "Epoch 2/20\n",
            "260/260 [==============================] - 177s 680ms/step - loss: 3.0651 - acc: 0.2076 - val_loss: 1.9955 - val_acc: 0.4613\n",
            "Epoch 3/20\n",
            "260/260 [==============================] - 175s 673ms/step - loss: 2.0010 - acc: 0.4421 - val_loss: 1.3061 - val_acc: 0.6323\n",
            "Epoch 4/20\n",
            "260/260 [==============================] - 187s 719ms/step - loss: 1.4435 - acc: 0.5898 - val_loss: 0.9881 - val_acc: 0.7180\n",
            "Epoch 5/20\n",
            "260/260 [==============================] - 179s 690ms/step - loss: 1.1332 - acc: 0.6784 - val_loss: 0.8146 - val_acc: 0.7750\n",
            "Epoch 6/20\n",
            "260/260 [==============================] - 181s 698ms/step - loss: 0.9581 - acc: 0.7315 - val_loss: 0.7306 - val_acc: 0.7958\n",
            "Epoch 7/20\n",
            "260/260 [==============================] - 176s 676ms/step - loss: 0.7718 - acc: 0.7790 - val_loss: 0.6639 - val_acc: 0.8169\n",
            "Epoch 8/20\n",
            "260/260 [==============================] - 184s 709ms/step - loss: 0.6884 - acc: 0.8095 - val_loss: 0.6104 - val_acc: 0.8371\n",
            "Epoch 9/20\n",
            "260/260 [==============================] - 185s 711ms/step - loss: 0.6023 - acc: 0.8335 - val_loss: 0.6010 - val_acc: 0.8461\n",
            "Epoch 10/20\n",
            "260/260 [==============================] - 179s 688ms/step - loss: 0.5243 - acc: 0.8561 - val_loss: 0.5753 - val_acc: 0.8530\n",
            "Epoch 11/20\n",
            "260/260 [==============================] - 175s 675ms/step - loss: 0.4865 - acc: 0.8658 - val_loss: 0.5466 - val_acc: 0.8591\n",
            "Epoch 12/20\n",
            "260/260 [==============================] - 176s 677ms/step - loss: 0.4235 - acc: 0.8852 - val_loss: 0.5639 - val_acc: 0.8641\n",
            "Epoch 13/20\n",
            "260/260 [==============================] - 177s 680ms/step - loss: 0.3804 - acc: 0.8949 - val_loss: 0.5396 - val_acc: 0.8646\n",
            "Epoch 14/20\n",
            "260/260 [==============================] - 176s 675ms/step - loss: 0.3520 - acc: 0.9051 - val_loss: 0.5457 - val_acc: 0.8761\n",
            "Epoch 15/20\n",
            "260/260 [==============================] - 175s 674ms/step - loss: 0.3141 - acc: 0.9124 - val_loss: 0.5642 - val_acc: 0.8751\n",
            "Epoch 16/20\n",
            "260/260 [==============================] - 176s 676ms/step - loss: 0.2990 - acc: 0.9186 - val_loss: 0.6000 - val_acc: 0.8712\n",
            "Epoch 17/20\n",
            "260/260 [==============================] - 178s 686ms/step - loss: 0.3034 - acc: 0.9162 - val_loss: 0.5504 - val_acc: 0.8821\n",
            "Epoch 18/20\n",
            "260/260 [==============================] - 180s 691ms/step - loss: 0.2555 - acc: 0.9320 - val_loss: 0.5895 - val_acc: 0.8771\n",
            "Epoch 19/20\n",
            "260/260 [==============================] - 202s 775ms/step - loss: 0.2631 - acc: 0.9301 - val_loss: 0.5524 - val_acc: 0.8841\n",
            "Epoch 20/20\n",
            "260/260 [==============================] - 184s 709ms/step - loss: 0.2374 - acc: 0.9355 - val_loss: 0.5536 - val_acc: 0.8889\n"
          ]
        }
      ],
      "source": [
        "history = model.fit(train_sequences, train_label, epochs = 20,\n",
        "          batch_size = 64, shuffle=True,\n",
        "          validation_data=[test_sequences, test_labels])"
      ]
    },
    {
      "cell_type": "code",
      "execution_count": 31,
      "metadata": {
        "colab": {
          "base_uri": "https://localhost:8080/",
          "height": 295
        },
        "id": "ybw9sbh51H9Z",
        "outputId": "91099877-dd7c-4b36-bb0d-d7939df63b69"
      },
      "outputs": [
        {
          "data": {
            "image/png": "[encoded data removed]",
            "text/plain": [
              "<Figure size 432x288 with 1 Axes>"
            ]
          },
          "metadata": {
            "needs_background": "light"
          },
          "output_type": "display_data"
        }
      ],
      "source": [
        "import matplotlib.pyplot as plt\n",
        "%matplotlib inline\n",
        "plt.plot(history.history['acc'])\n",
        "plt.plot(history.history['val_acc'])\n",
        "plt.title('Model Accuracy')\n",
        "plt.ylabel('Accuracy')\n",
        "plt.xlabel('Epoch')\n",
        "plt.legend(['Train', 'Validation'], loc='upper left')\n",
        "plt.show()"
      ]
    },
    {
      "cell_type": "code",
      "execution_count": 32,
      "metadata": {
        "colab": {
          "base_uri": "https://localhost:8080/",
          "height": 295
        },
        "id": "DgCZQ1im1YH4",
        "outputId": "2a5ff8bf-dd2b-4001-ef84-c4ad9bbe1e57"
      },
      "outputs": [
        {
          "data": {
            "image/png": "[encoded data removed]",
            "text/plain": [
              "<Figure size 432x288 with 1 Axes>"
            ]
          },
          "metadata": {
            "needs_background": "light"
          },
          "output_type": "display_data"
        }
      ],
      "source": [
        "plt.plot(history.history['loss'])\n",
        "plt.plot(history.history['val_loss'])\n",
        "plt.title('Model Loss')\n",
        "plt.ylabel('Loss')\n",
        "plt.xlabel('Epoch')\n",
        "plt.legend(['Train', 'Validation'], loc='upper left')\n",
        "plt.show()"
      ]
    },
    {
      "cell_type": "code",
      "execution_count": 38,
      "metadata": {
        "id": "lkCxd1pZMobA"
      },
      "outputs": [],
      "source": [
        "import pickle\n",
        "import json\n",
        "model.save('models/intents.h5')\n",
        "\n",
        "with open('classes.pkl','wb') as file:\n",
        "   pickle.dump(classes,file)\n",
        "\n",
        "with open('tokenizer.pkl','wb') as file:\n",
        "   pickle.dump(tokenizer,file)\n",
        "\n",
        "with open('label_encoder.pkl','wb') as file:\n",
        "   pickle.dump(label_encoder,file)"
      ]
    },
    {
      "cell_type": "code",
      "execution_count": 39,
      "metadata": {
        "id": "ko81orD2QxL0"
      },
      "outputs": [],
      "source": [
        "import numpy as np\n",
        "from tensorflow.keras.preprocessing.sequence import pad_sequences\n",
        "class IntentClassifier:\n",
        "    def __init__(self,classes,model,tokenizer,label_encoder):\n",
        "        self.classes = classes\n",
        "        self.classifier = model\n",
        "        self.tokenizer = tokenizer\n",
        "        self.label_encoder = label_encoder\n",
        "\n",
        "    def get_intent(self,text):\n",
        "        self.text = [text]\n",
        "        self.test_keras = self.tokenizer.texts_to_sequences(self.text)\n",
        "        self.test_keras_sequence = pad_sequences(self.test_keras, maxlen=16, padding='post')\n",
        "        self.pred = self.classifier.predict(self.test_keras_sequence)\n",
        "        return self.label_encoder.inverse_transform(np.argmax(self.pred,1))[0]"
      ]
    },
    {
      "cell_type": "code",
      "execution_count": 48,
      "metadata": {
        "colab": {
          "base_uri": "https://localhost:8080/"
        },
        "id": "c1TcCvHERAN6",
        "outputId": "f1ffdf23-47a3-4668-eb95-c4cb2e053eec"
      },
      "outputs": [
        {
          "name": "stdout",
          "output_type": "stream",
          "text": [
            "schedule_meeting\n"
          ]
        }
      ],
      "source": [
        "nlu = IntentClassifier(classes,model,tokenizer,label_encoder)\n",
        "print(nlu.get_intent(\"I want to set an meeting\"))"
      ]
    }
  ],
  "metadata": {
    "colab": {
      "name": "NLP.ipynb",
      "provenance": []
    },
    "kernelspec": {
      "display_name": "Python 3.9.5 64-bit",
      "language": "python",
      "name": "python3"
    },
    "language_info": {
      "name": "python",
      "version": "3.9.5"
    },
    "vscode": {
      "interpreter": {
        "hash": "8bd2466231e41ed14114f2b409d9719ddb015392667fe5003083bc13ae641016"
      }
    }
  },
  "nbformat": 4,
  "nbformat_minor": 0
}
